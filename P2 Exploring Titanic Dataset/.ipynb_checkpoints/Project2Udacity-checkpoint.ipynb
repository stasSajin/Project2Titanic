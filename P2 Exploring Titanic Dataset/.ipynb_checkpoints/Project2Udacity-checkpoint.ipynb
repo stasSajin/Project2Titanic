{
 "cells": [
  {
   "cell_type": "markdown",
   "metadata": {},
   "source": [
    "## General Summary:\n",
    "\n",
    "The aim of this project is to perform some data cleaning and exploratory work on the Titanic dataset. More information on the titanic dataset can be found here: https://www.kaggle.com/c/titanic/data. Information on variable descriptions can be found here: https://www.kaggle.com/c/titanic/data. Overall, this document will try to address the following:\n",
    "\n",
    "- Is there a relatonsip between the probability of survival and gender. In particular, are women more likely to survive than men?\n",
    "- Is there a relationship between passenger class (as a proxy for socio-economic status) and survival probability?\n",
    "- Is there a relationship between age and probability of survival? Are children more likely to survive than adults?\n",
    "- Is survival probability greater for people with larger families on board? For instance, is one more likely to survive if there are a larger number of parents, siblings, etc., on board?\n",
    "\n",
    "\n"
   ]
  },
  {
   "cell_type": "markdown",
   "metadata": {},
   "source": [
    "### Libraries"
   ]
  },
  {
   "cell_type": "code",
   "execution_count": 2,
   "metadata": {
    "collapsed": false
   },
   "outputs": [],
   "source": [
    "##Import the pandas, numpy, seaborn, and matplotlib libraries.\n",
    "\n",
    "import pandas as pd\n",
    "import numpy as np\n",
    "import matplotlib.pyplot as plot\n",
    "import seaborn as sns\n",
    "\n",
    "\n",
    "#set plot style\n",
    "sns.set(style=\"ticks\", color_codes=True)\n",
    "\n",
    "#have the plots presented within the notebook\n",
    "%matplotlib inline \n"
   ]
  },
  {
   "cell_type": "markdown",
   "metadata": {},
   "source": [
    "### Reading Data\n",
    "The csv file is read localy using pandas."
   ]
  },
  {
   "cell_type": "code",
   "execution_count": 3,
   "metadata": {
    "collapsed": false
   },
   "outputs": [
    {
     "data": {
      "text/html": [
       "<div>\n",
       "<table border=\"1\" class=\"dataframe\">\n",
       "  <thead>\n",
       "    <tr style=\"text-align: right;\">\n",
       "      <th></th>\n",
       "      <th>PassengerId</th>\n",
       "      <th>Survived</th>\n",
       "      <th>Pclass</th>\n",
       "      <th>Name</th>\n",
       "      <th>Sex</th>\n",
       "      <th>Age</th>\n",
       "      <th>SibSp</th>\n",
       "      <th>Parch</th>\n",
       "      <th>Ticket</th>\n",
       "      <th>Fare</th>\n",
       "      <th>Cabin</th>\n",
       "      <th>Embarked</th>\n",
       "    </tr>\n",
       "  </thead>\n",
       "  <tbody>\n",
       "    <tr>\n",
       "      <th>0</th>\n",
       "      <td>1</td>\n",
       "      <td>0</td>\n",
       "      <td>3</td>\n",
       "      <td>Braund, Mr. Owen Harris</td>\n",
       "      <td>male</td>\n",
       "      <td>22</td>\n",
       "      <td>1</td>\n",
       "      <td>0</td>\n",
       "      <td>A/5 21171</td>\n",
       "      <td>7.2500</td>\n",
       "      <td>NaN</td>\n",
       "      <td>S</td>\n",
       "    </tr>\n",
       "    <tr>\n",
       "      <th>1</th>\n",
       "      <td>2</td>\n",
       "      <td>1</td>\n",
       "      <td>1</td>\n",
       "      <td>Cumings, Mrs. John Bradley (Florence Briggs Th...</td>\n",
       "      <td>female</td>\n",
       "      <td>38</td>\n",
       "      <td>1</td>\n",
       "      <td>0</td>\n",
       "      <td>PC 17599</td>\n",
       "      <td>71.2833</td>\n",
       "      <td>C85</td>\n",
       "      <td>C</td>\n",
       "    </tr>\n",
       "    <tr>\n",
       "      <th>2</th>\n",
       "      <td>3</td>\n",
       "      <td>1</td>\n",
       "      <td>3</td>\n",
       "      <td>Heikkinen, Miss. Laina</td>\n",
       "      <td>female</td>\n",
       "      <td>26</td>\n",
       "      <td>0</td>\n",
       "      <td>0</td>\n",
       "      <td>STON/O2. 3101282</td>\n",
       "      <td>7.9250</td>\n",
       "      <td>NaN</td>\n",
       "      <td>S</td>\n",
       "    </tr>\n",
       "    <tr>\n",
       "      <th>3</th>\n",
       "      <td>4</td>\n",
       "      <td>1</td>\n",
       "      <td>1</td>\n",
       "      <td>Futrelle, Mrs. Jacques Heath (Lily May Peel)</td>\n",
       "      <td>female</td>\n",
       "      <td>35</td>\n",
       "      <td>1</td>\n",
       "      <td>0</td>\n",
       "      <td>113803</td>\n",
       "      <td>53.1000</td>\n",
       "      <td>C123</td>\n",
       "      <td>S</td>\n",
       "    </tr>\n",
       "    <tr>\n",
       "      <th>4</th>\n",
       "      <td>5</td>\n",
       "      <td>0</td>\n",
       "      <td>3</td>\n",
       "      <td>Allen, Mr. William Henry</td>\n",
       "      <td>male</td>\n",
       "      <td>35</td>\n",
       "      <td>0</td>\n",
       "      <td>0</td>\n",
       "      <td>373450</td>\n",
       "      <td>8.0500</td>\n",
       "      <td>NaN</td>\n",
       "      <td>S</td>\n",
       "    </tr>\n",
       "  </tbody>\n",
       "</table>\n",
       "</div>"
      ],
      "text/plain": [
       "   PassengerId  Survived  Pclass  \\\n",
       "0            1         0       3   \n",
       "1            2         1       1   \n",
       "2            3         1       3   \n",
       "3            4         1       1   \n",
       "4            5         0       3   \n",
       "\n",
       "                                                Name     Sex  Age  SibSp  \\\n",
       "0                            Braund, Mr. Owen Harris    male   22      1   \n",
       "1  Cumings, Mrs. John Bradley (Florence Briggs Th...  female   38      1   \n",
       "2                             Heikkinen, Miss. Laina  female   26      0   \n",
       "3       Futrelle, Mrs. Jacques Heath (Lily May Peel)  female   35      1   \n",
       "4                           Allen, Mr. William Henry    male   35      0   \n",
       "\n",
       "   Parch            Ticket     Fare Cabin Embarked  \n",
       "0      0         A/5 21171   7.2500   NaN        S  \n",
       "1      0          PC 17599  71.2833   C85        C  \n",
       "2      0  STON/O2. 3101282   7.9250   NaN        S  \n",
       "3      0            113803  53.1000  C123        S  \n",
       "4      0            373450   8.0500   NaN        S  "
      ]
     },
     "execution_count": 3,
     "metadata": {},
     "output_type": "execute_result"
    }
   ],
   "source": [
    "titanic = pd.read_csv(\"titanic_data.csv\")\n",
    "\n",
    "#preview the first 5 rows\n",
    "titanic.head()"
   ]
  },
  {
   "cell_type": "code",
   "execution_count": 5,
   "metadata": {
    "collapsed": false
   },
   "outputs": [
    {
     "data": {
      "text/html": [
       "<div>\n",
       "<table border=\"1\" class=\"dataframe\">\n",
       "  <thead>\n",
       "    <tr style=\"text-align: right;\">\n",
       "      <th></th>\n",
       "      <th>PassengerId</th>\n",
       "      <th>Survived</th>\n",
       "      <th>Pclass</th>\n",
       "      <th>Name</th>\n",
       "      <th>Sex</th>\n",
       "      <th>Age</th>\n",
       "      <th>SibSp</th>\n",
       "      <th>Parch</th>\n",
       "      <th>Ticket</th>\n",
       "      <th>Fare</th>\n",
       "      <th>Cabin</th>\n",
       "      <th>Embarked</th>\n",
       "    </tr>\n",
       "  </thead>\n",
       "  <tbody>\n",
       "    <tr>\n",
       "      <th>886</th>\n",
       "      <td>887</td>\n",
       "      <td>0</td>\n",
       "      <td>2</td>\n",
       "      <td>Montvila, Rev. Juozas</td>\n",
       "      <td>male</td>\n",
       "      <td>27</td>\n",
       "      <td>0</td>\n",
       "      <td>0</td>\n",
       "      <td>211536</td>\n",
       "      <td>13.00</td>\n",
       "      <td>NaN</td>\n",
       "      <td>S</td>\n",
       "    </tr>\n",
       "    <tr>\n",
       "      <th>887</th>\n",
       "      <td>888</td>\n",
       "      <td>1</td>\n",
       "      <td>1</td>\n",
       "      <td>Graham, Miss. Margaret Edith</td>\n",
       "      <td>female</td>\n",
       "      <td>19</td>\n",
       "      <td>0</td>\n",
       "      <td>0</td>\n",
       "      <td>112053</td>\n",
       "      <td>30.00</td>\n",
       "      <td>B42</td>\n",
       "      <td>S</td>\n",
       "    </tr>\n",
       "    <tr>\n",
       "      <th>888</th>\n",
       "      <td>889</td>\n",
       "      <td>0</td>\n",
       "      <td>3</td>\n",
       "      <td>Johnston, Miss. Catherine Helen \"Carrie\"</td>\n",
       "      <td>female</td>\n",
       "      <td>NaN</td>\n",
       "      <td>1</td>\n",
       "      <td>2</td>\n",
       "      <td>W./C. 6607</td>\n",
       "      <td>23.45</td>\n",
       "      <td>NaN</td>\n",
       "      <td>S</td>\n",
       "    </tr>\n",
       "    <tr>\n",
       "      <th>889</th>\n",
       "      <td>890</td>\n",
       "      <td>1</td>\n",
       "      <td>1</td>\n",
       "      <td>Behr, Mr. Karl Howell</td>\n",
       "      <td>male</td>\n",
       "      <td>26</td>\n",
       "      <td>0</td>\n",
       "      <td>0</td>\n",
       "      <td>111369</td>\n",
       "      <td>30.00</td>\n",
       "      <td>C148</td>\n",
       "      <td>C</td>\n",
       "    </tr>\n",
       "    <tr>\n",
       "      <th>890</th>\n",
       "      <td>891</td>\n",
       "      <td>0</td>\n",
       "      <td>3</td>\n",
       "      <td>Dooley, Mr. Patrick</td>\n",
       "      <td>male</td>\n",
       "      <td>32</td>\n",
       "      <td>0</td>\n",
       "      <td>0</td>\n",
       "      <td>370376</td>\n",
       "      <td>7.75</td>\n",
       "      <td>NaN</td>\n",
       "      <td>Q</td>\n",
       "    </tr>\n",
       "  </tbody>\n",
       "</table>\n",
       "</div>"
      ],
      "text/plain": [
       "     PassengerId  Survived  Pclass                                      Name  \\\n",
       "886          887         0       2                     Montvila, Rev. Juozas   \n",
       "887          888         1       1              Graham, Miss. Margaret Edith   \n",
       "888          889         0       3  Johnston, Miss. Catherine Helen \"Carrie\"   \n",
       "889          890         1       1                     Behr, Mr. Karl Howell   \n",
       "890          891         0       3                       Dooley, Mr. Patrick   \n",
       "\n",
       "        Sex  Age  SibSp  Parch      Ticket   Fare Cabin Embarked  \n",
       "886    male   27      0      0      211536  13.00   NaN        S  \n",
       "887  female   19      0      0      112053  30.00   B42        S  \n",
       "888  female  NaN      1      2  W./C. 6607  23.45   NaN        S  \n",
       "889    male   26      0      0      111369  30.00  C148        C  \n",
       "890    male   32      0      0      370376   7.75   NaN        Q  "
      ]
     },
     "execution_count": 5,
     "metadata": {},
     "output_type": "execute_result"
    }
   ],
   "source": [
    "#preview the last 5 rows, just to check that the row structure is the same as for the first 5 rows. It could be that at the end\n",
    "#the document has the row filled with notes unrelated to the dataset.\n",
    "titanic.tail()\n",
    "#everything looks good; the are no unrelated notes located at the end of the dataset."
   ]
  },
  {
   "cell_type": "markdown",
   "metadata": {},
   "source": [
    "### Examining the structure and relationships in the data\n",
    "In this section, I will examine the following:\n",
    "\n",
    "* The variable types. In other words, are the variables in their proper type (e.g., boolean, integer, float).\n",
    "* The pattern of missing data and possible ways to deal with missing data.\n",
    "* Descriptive statistics for sex, age, class, and family size.\n",
    "* Plots visualizing the relationship between Surival Chance and sex, class, age, and family size"
   ]
  },
  {
   "cell_type": "code",
   "execution_count": 6,
   "metadata": {
    "collapsed": false
   },
   "outputs": [
    {
     "name": "stdout",
     "output_type": "stream",
     "text": [
      "<class 'pandas.core.frame.DataFrame'>\n",
      "Int64Index: 891 entries, 0 to 890\n",
      "Data columns (total 12 columns):\n",
      "PassengerId    891 non-null int64\n",
      "Survived       891 non-null int64\n",
      "Pclass         891 non-null int64\n",
      "Name           891 non-null object\n",
      "Sex            891 non-null object\n",
      "Age            714 non-null float64\n",
      "SibSp          891 non-null int64\n",
      "Parch          891 non-null int64\n",
      "Ticket         891 non-null object\n",
      "Fare           891 non-null float64\n",
      "Cabin          204 non-null object\n",
      "Embarked       889 non-null object\n",
      "dtypes: float64(2), int64(5), object(5)\n",
      "memory usage: 90.5+ KB\n"
     ]
    }
   ],
   "source": [
    "#Are the variables in their proper types?\n",
    "titanic.info()"
   ]
  },
  {
   "cell_type": "markdown",
   "metadata": {},
   "source": [
    "Nothing seems to be out of the ordinary, except for the variable Pclass. The Pclass should be recoded into a factor variable. In the next chunk of code i recode the Pclass from int64 into an object class and rename the levels as follows:\n",
    "* 1=First\n",
    "* 2=Second\n",
    "* 3=Third\n",
    "\n",
    "\n",
    "In the next chunk of code, I also create a new variable called 'Total_Family' that will contain the sum of the 'SibSp' and 'Parch'. This variable will essentialy measure the number of family members that a person has on board the Titanic."
   ]
  },
  {
   "cell_type": "code",
   "execution_count": 7,
   "metadata": {
    "collapsed": false
   },
   "outputs": [],
   "source": [
    "#recode the Pclass into a cetrgorical variable, with 3 levels. \n",
    "titanic.loc[titanic.Pclass==1, ['Pclass']]='First'\n",
    "titanic.loc[titanic.Pclass==2, ['Pclass']]='Second'\n",
    "titanic.loc[titanic.Pclass==3, ['Pclass']]='Third'\n",
    "\n",
    "#create column for Total_Family\n",
    "titanic['Total_Family']=titanic['SibSp']+titanic['Parch']\n"
   ]
  },
  {
   "cell_type": "code",
   "execution_count": 8,
   "metadata": {
    "collapsed": false
   },
   "outputs": [
    {
     "data": {
      "text/plain": [
       "891"
      ]
     },
     "execution_count": 8,
     "metadata": {},
     "output_type": "execute_result"
    }
   ],
   "source": [
    "#let's make sure we have 891 unique passengers\n",
    "len(list(titanic['PassengerId'].unique()))"
   ]
  },
  {
   "cell_type": "code",
   "execution_count": 9,
   "metadata": {
    "collapsed": false
   },
   "outputs": [
    {
     "data": {
      "text/html": [
       "<div>\n",
       "<table border=\"1\" class=\"dataframe\">\n",
       "  <thead>\n",
       "    <tr style=\"text-align: right;\">\n",
       "      <th></th>\n",
       "      <th>Survived</th>\n",
       "      <th>Age</th>\n",
       "      <th>Total_Family</th>\n",
       "    </tr>\n",
       "  </thead>\n",
       "  <tbody>\n",
       "    <tr>\n",
       "      <th>count</th>\n",
       "      <td>891.000000</td>\n",
       "      <td>714.000000</td>\n",
       "      <td>891.000000</td>\n",
       "    </tr>\n",
       "    <tr>\n",
       "      <th>mean</th>\n",
       "      <td>0.383838</td>\n",
       "      <td>29.699118</td>\n",
       "      <td>0.904602</td>\n",
       "    </tr>\n",
       "    <tr>\n",
       "      <th>std</th>\n",
       "      <td>0.486592</td>\n",
       "      <td>14.526497</td>\n",
       "      <td>1.613459</td>\n",
       "    </tr>\n",
       "    <tr>\n",
       "      <th>min</th>\n",
       "      <td>0.000000</td>\n",
       "      <td>0.420000</td>\n",
       "      <td>0.000000</td>\n",
       "    </tr>\n",
       "    <tr>\n",
       "      <th>25%</th>\n",
       "      <td>0.000000</td>\n",
       "      <td>20.125000</td>\n",
       "      <td>0.000000</td>\n",
       "    </tr>\n",
       "    <tr>\n",
       "      <th>50%</th>\n",
       "      <td>0.000000</td>\n",
       "      <td>28.000000</td>\n",
       "      <td>0.000000</td>\n",
       "    </tr>\n",
       "    <tr>\n",
       "      <th>75%</th>\n",
       "      <td>1.000000</td>\n",
       "      <td>38.000000</td>\n",
       "      <td>1.000000</td>\n",
       "    </tr>\n",
       "    <tr>\n",
       "      <th>max</th>\n",
       "      <td>1.000000</td>\n",
       "      <td>80.000000</td>\n",
       "      <td>10.000000</td>\n",
       "    </tr>\n",
       "  </tbody>\n",
       "</table>\n",
       "</div>"
      ],
      "text/plain": [
       "         Survived         Age  Total_Family\n",
       "count  891.000000  714.000000    891.000000\n",
       "mean     0.383838   29.699118      0.904602\n",
       "std      0.486592   14.526497      1.613459\n",
       "min      0.000000    0.420000      0.000000\n",
       "25%      0.000000   20.125000      0.000000\n",
       "50%      0.000000   28.000000      0.000000\n",
       "75%      1.000000   38.000000      1.000000\n",
       "max      1.000000   80.000000     10.000000"
      ]
     },
     "execution_count": 9,
     "metadata": {},
     "output_type": "execute_result"
    }
   ],
   "source": [
    "#Let's examine descriptive stats for the colums survived, age, and total family\n",
    "titanic[['Survived','Age','Total_Family']].describe()"
   ]
  },
  {
   "cell_type": "markdown",
   "metadata": {},
   "source": [
    "It seems like only about 38.3% of the passengers survived. The average age of a passenger was close to 27 and a passenger had about .9 family members on board with them. Note also that we are missing the age values for 177 passengers. For now, I will not do anything with the missing data. Later I will replace the missing data with the median age value.\n",
    "\n",
    "The min and max for age and total family in the table also shows nothing out of the ordinary. The age ranges from several months to 80 years, and the family size ranges from no family on board to 10 family members on board. Very extreme max values (e.g., age of 230) would be a sign that there were some mistakes done during data logging.\n",
    "\n",
    "In the next lines of code, I will examine the probability of survival and counts for Pclass and Sex."
   ]
  },
  {
   "cell_type": "code",
   "execution_count": 10,
   "metadata": {
    "collapsed": false
   },
   "outputs": [
    {
     "data": {
      "text/html": [
       "<div>\n",
       "<table border=\"1\" class=\"dataframe\">\n",
       "  <thead>\n",
       "    <tr>\n",
       "      <th></th>\n",
       "      <th colspan=\"2\" halign=\"left\">Survived</th>\n",
       "    </tr>\n",
       "    <tr>\n",
       "      <th></th>\n",
       "      <th>mean</th>\n",
       "      <th>len</th>\n",
       "    </tr>\n",
       "    <tr>\n",
       "      <th>Pclass</th>\n",
       "      <th></th>\n",
       "      <th></th>\n",
       "    </tr>\n",
       "  </thead>\n",
       "  <tbody>\n",
       "    <tr>\n",
       "      <th>First</th>\n",
       "      <td>0.629630</td>\n",
       "      <td>216</td>\n",
       "    </tr>\n",
       "    <tr>\n",
       "      <th>Second</th>\n",
       "      <td>0.472826</td>\n",
       "      <td>184</td>\n",
       "    </tr>\n",
       "    <tr>\n",
       "      <th>Third</th>\n",
       "      <td>0.242363</td>\n",
       "      <td>491</td>\n",
       "    </tr>\n",
       "  </tbody>\n",
       "</table>\n",
       "</div>"
      ],
      "text/plain": [
       "        Survived     \n",
       "            mean  len\n",
       "Pclass               \n",
       "First   0.629630  216\n",
       "Second  0.472826  184\n",
       "Third   0.242363  491"
      ]
     },
     "execution_count": 10,
     "metadata": {},
     "output_type": "execute_result"
    }
   ],
   "source": [
    "#Group by class and find the average survival rate for each class and number of passengers in each class\n",
    "byClass = titanic.groupby('Pclass', sort=True, as_index=False)\n",
    "byClass['Survived'].agg([np.mean, len])\n",
    "\n",
    "#it looks like the majority of the passengers were in the lower class. Moreover, it seems like there might be a relationship\n",
    "#between class and survival, with higher class passengers being more likely to survive than lower class passengers."
   ]
  },
  {
   "cell_type": "code",
   "execution_count": 11,
   "metadata": {
    "collapsed": false
   },
   "outputs": [
    {
     "data": {
      "text/html": [
       "<div>\n",
       "<table border=\"1\" class=\"dataframe\">\n",
       "  <thead>\n",
       "    <tr>\n",
       "      <th></th>\n",
       "      <th colspan=\"2\" halign=\"left\">Survived</th>\n",
       "    </tr>\n",
       "    <tr>\n",
       "      <th></th>\n",
       "      <th>mean</th>\n",
       "      <th>len</th>\n",
       "    </tr>\n",
       "    <tr>\n",
       "      <th>Sex</th>\n",
       "      <th></th>\n",
       "      <th></th>\n",
       "    </tr>\n",
       "  </thead>\n",
       "  <tbody>\n",
       "    <tr>\n",
       "      <th>female</th>\n",
       "      <td>0.742038</td>\n",
       "      <td>314</td>\n",
       "    </tr>\n",
       "    <tr>\n",
       "      <th>male</th>\n",
       "      <td>0.188908</td>\n",
       "      <td>577</td>\n",
       "    </tr>\n",
       "  </tbody>\n",
       "</table>\n",
       "</div>"
      ],
      "text/plain": [
       "        Survived     \n",
       "            mean  len\n",
       "Sex                  \n",
       "female  0.742038  314\n",
       "male    0.188908  577"
      ]
     },
     "execution_count": 11,
     "metadata": {},
     "output_type": "execute_result"
    }
   ],
   "source": [
    "#do the same thing for sex\n",
    "bySex = titanic.groupby(['Sex'], sort=True, as_index=False)\n",
    "bySex['Survived'].agg([np.mean, len])\n",
    "\n",
    "#it seems like the majority of the passengers were males. "
   ]
  },
  {
   "cell_type": "markdown",
   "metadata": {},
   "source": [
    "Tables are not the best way to process information, so below I plot the relationship between survival probability, passenger class, and gender."
   ]
  },
  {
   "cell_type": "code",
   "execution_count": 12,
   "metadata": {
    "collapsed": false
   },
   "outputs": [
    {
     "data": {
      "text/plain": [
       "<matplotlib.text.Text at 0xa378c50>"
      ]
     },
     "execution_count": 12,
     "metadata": {},
     "output_type": "execute_result"
    },
    {
     "data": {
      "image/png": "[encoded data removed]",
      "text/plain": [
       "<matplotlib.figure.Figure at 0xa0eaba8>"
      ]
     },
     "metadata": {},
     "output_type": "display_data"
    }
   ],
   "source": [
    "#set the color palette to colorblind\n",
    "sns.set_palette(sns.color_palette('colorblind'))\n",
    "sns.pointplot(x=\"Pclass\", y=\"Survived\", hue=\"Sex\", data=titanic, order=['First','Second','Third'],size=4, aspect=4);\n",
    "\n",
    "plot.xlabel('Class')\n",
    "plot.ylabel('Survival Chance')\n",
    "plot.title('Survival chance based on sex and class')\n",
    "\n",
    "#I used the sealern documentation to create the plot below"
   ]
  },
  {
   "cell_type": "markdown",
   "metadata": {},
   "source": [
    "Several things emerge from examining the graph above\n",
    "* There is a very clear difference between males and females when it comes to answering who survived the Titanic crash. Females are more likely to have survived the crash in all classes.\n",
    "* There also appears to be an overall higher chance of survival if one has higher Class. Notice that passengers in the Third class have a lower probability of surviving relative to passengers in the First class.\n",
    "* There also appears to be an interaction between sex and class when it comes to survival chance. Males in the second and third classes had about similar chances of surviving, while males in the third class had higher survival chances. ON the other hand for females, the chances of survival for first and second clases were similar ot each other, while females in the third class have much smaller chance of surviving."
   ]
  },
  {
   "cell_type": "markdown",
   "metadata": {},
   "source": [
    "We know that there might be a relationship between survival chance, gender, and class. Below I examine if there is a relationship between survival probability and age. I expect that age would have an inverse relationship with survival probability (i.e., children are more likely to survive). "
   ]
  },
  {
   "cell_type": "code",
   "execution_count": 13,
   "metadata": {
    "collapsed": false
   },
   "outputs": [
    {
     "data": {
      "text/plain": [
       "<seaborn.axisgrid.FacetGrid at 0x3dc76a0>"
      ]
     },
     "execution_count": 13,
     "metadata": {},
     "output_type": "execute_result"
    },
    {
     "data": {
      "image/png": "[encoded data removed]",
      "text/plain": [
       "<matplotlib.figure.Figure at 0xa264518>"
      ]
     },
     "metadata": {},
     "output_type": "display_data"
    }
   ],
   "source": [
    "#Create a new column called SurvivedFactor \n",
    "titanic['SurvivedFactor']=titanic['Survived']\n",
    "titanic.loc[titanic.SurvivedFactor==1, ['SurvivedFactor']]='Survived'\n",
    "titanic.loc[titanic.SurvivedFactor==0, ['SurvivedFactor']]='Dead'\n",
    "\n",
    "\n",
    "\n",
    "facet = sns.FacetGrid(titanic, hue=\"SurvivedFactor\",aspect=3)\n",
    "facet.map(sns.kdeplot,'Age',shade= True)\n",
    "facet.set(xlim=(0, titanic['Age'].max()))\n",
    "facet.add_legend()\n"
   ]
  },
  {
   "cell_type": "markdown",
   "metadata": {},
   "source": [
    "It seems like younger passengers are more likely to survive compared to adult passengers. Notice that the distribution of the survived passnegers has a higher density in the left side compared to the distribution of dead passengers.\n",
    "\n",
    "What does the relationship between family size and survival looks like?"
   ]
  },
  {
   "cell_type": "code",
   "execution_count": 14,
   "metadata": {
    "collapsed": false
   },
   "outputs": [
    {
     "data": {
      "text/plain": [
       "<seaborn.axisgrid.FacetGrid at 0xafd0588>"
      ]
     },
     "execution_count": 14,
     "metadata": {},
     "output_type": "execute_result"
    },
    {
     "data": {
      "image/png": "[encoded data removed]",
      "text/plain": [
       "<matplotlib.figure.Figure at 0xafd0be0>"
      ]
     },
     "metadata": {},
     "output_type": "display_data"
    }
   ],
   "source": [
    "facet = sns.FacetGrid(titanic, hue=\"SurvivedFactor\",aspect=3)\n",
    "facet.map(sns.kdeplot,'Total_Family',shade= True)\n",
    "facet.set(xlim=(0, titanic['Total_Family'].max()))\n",
    "facet.add_legend()"
   ]
  },
  {
   "cell_type": "markdown",
   "metadata": {},
   "source": [
    "It seems like being part of a larger family confers some benefits in surviving the Titanic catastrophe. It might be that this is due to the fact that families that stick together have a better chance of fighting for a spot in a safety boat. The motive could also be altruistic, with people who are single allowing the families to board first."
   ]
  },
  {
   "cell_type": "markdown",
   "metadata": {},
   "source": [
    "## Inferential Tests"
   ]
  },
  {
   "cell_type": "markdown",
   "metadata": {},
   "source": [
    "Although the graphs above allow one to visualize the relationship between survival chance and gender, age, family size, and class, they do not provide a way to quantify the size and the statistical significance of that relationship. In order to do this, I will perform a logistic regression. The predicted variable will be `Survived`. The predictors will be `Age`,`Sex`,`Class`,`Total_Family`. When writing the code for this section, I relied on suggestions from yhat (http://blog.yhat.com/posts/logistic-regression-and-python.html)."
   ]
  },
  {
   "cell_type": "code",
   "execution_count": 15,
   "metadata": {
    "collapsed": true
   },
   "outputs": [],
   "source": [
    "#need to import statsmodels for this section\n",
    "import statsmodels.api as sm"
   ]
  },
  {
   "cell_type": "code",
   "execution_count": 16,
   "metadata": {
    "collapsed": false
   },
   "outputs": [
    {
     "name": "stdout",
     "output_type": "stream",
     "text": [
      "   First  Second  Third\n",
      "0      0       0      1\n",
      "1      1       0      0\n",
      "2      0       0      1\n",
      "3      1       0      0\n",
      "4      0       0      1\n",
      "   female  male\n",
      "0       0     1\n",
      "1       1     0\n",
      "2       1     0\n",
      "3       1     0\n",
      "4       0     1\n"
     ]
    }
   ],
   "source": [
    "#we are going to create dummy variables for Pclass and Sex using the get_dummies function from pandas\n",
    "dummy_class=pd.get_dummies(titanic['Pclass'])\n",
    "dummy_sex=pd.get_dummies(titanic['Sex'])\n",
    "print dummy_class.head()\n",
    "print dummy_sex.head()"
   ]
  },
  {
   "cell_type": "code",
   "execution_count": 22,
   "metadata": {
    "collapsed": false
   },
   "outputs": [
    {
     "name": "stdout",
     "output_type": "stream",
     "text": [
      "   Survived  Age  Total_Family  Second  Third  male  intercept\n",
      "0         0   22             1       0      1     1          1\n",
      "1         1   38             1       0      0     0          1\n",
      "2         1   26             0       0      1     0          1\n",
      "3         1   35             1       0      0     0          1\n",
      "4         0   35             0       0      1     1          1\n"
     ]
    },
    {
     "name": "stderr",
     "output_type": "stream",
     "text": [
      "C:\\Users\\Stas\\Anaconda2\\lib\\site-packages\\ipykernel\\__main__.py:9: SettingWithCopyWarning: \n",
      "A value is trying to be set on a copy of a slice from a DataFrame\n",
      "\n",
      "See the caveats in the documentation: http://pandas.pydata.org/pandas-docs/stable/indexing.html#indexing-view-versus-copy\n"
     ]
    }
   ],
   "source": [
    "#create a dataframe of predictor colums\n",
    "columskept=['Survived','Age', 'Total_Family']\n",
    "##attach the dummy colums for second and third class\n",
    "\n",
    "data=titanic[columskept].join(dummy_class.ix[:,'Second':]).join(dummy_sex.ix[:,'male':])\n",
    "#add an intercept\n",
    "data['intercept'] = 1.0\n",
    "#the Age variable contains NaN values, so we replace them with median age of 28\n",
    "data[\"Age\"][np.isnan(data[\"Age\"])] = 28\n",
    "print data.head()"
   ]
  },
  {
   "cell_type": "code",
   "execution_count": 29,
   "metadata": {
    "collapsed": false
   },
   "outputs": [
    {
     "name": "stdout",
     "output_type": "stream",
     "text": [
      "Optimization terminated successfully.\n",
      "         Current function value: 0.444911\n",
      "         Iterations 6\n",
      "                           Logit Regression Results                           \n",
      "==============================================================================\n",
      "Dep. Variable:               Survived   No. Observations:                  891\n",
      "Model:                          Logit   Df Residuals:                      885\n",
      "Method:                           MLE   Df Model:                            5\n",
      "Date:                Wed, 09 Mar 2016   Pseudo R-squ.:                  0.3319\n",
      "Time:                        19:58:00   Log-Likelihood:                -396.42\n",
      "converged:                       True   LL-Null:                       -593.33\n",
      "                                        LLR p-value:                 6.356e-83\n",
      "================================================================================\n",
      "                   coef    std err          z      P>|z|      [95.0% Conf. Int.]\n",
      "--------------------------------------------------------------------------------\n",
      "Age             -0.0391      0.008     -5.018      0.000        -0.054    -0.024\n",
      "Total_Family    -0.2154      0.064     -3.353      0.001        -0.341    -0.089\n",
      "Second          -1.1698      0.261     -4.489      0.000        -1.680    -0.659\n",
      "Third           -2.3493      0.243     -9.669      0.000        -2.825    -1.873\n",
      "male            -2.7832      0.198    -14.073      0.000        -3.171    -2.396\n",
      "intercept        4.0325      0.401     10.050      0.000         3.246     4.819\n",
      "================================================================================\n"
     ]
    }
   ],
   "source": [
    "\n",
    "predictor_cols=data.columns[1:]\n",
    "logit = sm.Logit(data['Survived'], data[predictor_cols])\n",
    "#fit model\n",
    "result = logit.fit()\n",
    "#present summary of the model\n",
    "print result.summary()"
   ]
  },
  {
   "cell_type": "code",
   "execution_count": 31,
   "metadata": {
    "collapsed": false
   },
   "outputs": [
    {
     "name": "stdout",
     "output_type": "stream",
     "text": [
      "Age              1.039884\n",
      "Total_Family     1.240335\n",
      "Second           3.221221\n",
      "Third           10.477866\n",
      "male            16.171085\n",
      "intercept       56.400425\n",
      "dtype: float64\n"
     ]
    }
   ],
   "source": [
    "#convert the coefficients from loggodds to more interpretable odds values\n",
    "print np.exp(abs(result.params))"
   ]
  },
  {
   "cell_type": "markdown",
   "metadata": {},
   "source": [
    "The logistic regression model indicates that all relationships are significant."
   ]
  },
  {
   "cell_type": "markdown",
   "metadata": {},
   "source": [
    "## Summary of findings"
   ]
  },
  {
   "cell_type": "markdown",
   "metadata": {},
   "source": [
    "Several interesting patterns were observed in the data\n",
    "* Younger passengers were more likely to have survived the catastrope when compared to older passengers\n",
    "* Passengers in the first class were more likely to have survived relative to passengers in the second and third class.\n",
    "* Females had a higher survival chance relative to males\n",
    "* Passengers with family on board were more likely to come out alive when compared to passengers with no family on board. \n",
    "\n",
    "It is important to note that the relationships noted in the data are not causal, since we have not done any random selection and random assignment. Moreover, we have not examined more complex relationships, such as interactions between different variables (e.g., interaction between gender and class). "
   ]
  },
  {
   "cell_type": "code",
   "execution_count": null,
   "metadata": {
    "collapsed": true
   },
   "outputs": [],
   "source": []
  }
 ],
 "metadata": {
  "kernelspec": {
   "display_name": "Python 2",
   "language": "python",
   "name": "python2"
  },
  "language_info": {
   "codemirror_mode": {
    "name": "ipython",
    "version": 2
   },
   "file_extension": ".py",
   "mimetype": "text/x-python",
   "name": "python",
   "nbconvert_exporter": "python",
   "pygments_lexer": "ipython2",
   "version": "2.7.11"
  }
 },
 "nbformat": 4,
 "nbformat_minor": 0
}
